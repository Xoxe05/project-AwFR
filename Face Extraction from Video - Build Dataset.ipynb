{
 "cells": [
  {
   "cell_type": "markdown",
   "metadata": {},
   "source": [
    "# Extracting the faces from a video"
   ]
  },
  {
   "cell_type": "code",
   "execution_count": 68,
   "metadata": {},
   "outputs": [
    {
     "name": "stdout",
     "output_type": "stream",
     "text": [
      "*****************************\n",
      "Total frame counts: 5\n",
      "total images for dataset: 5\n",
      "*****************************\n"
     ]
    }
   ],
   "source": [
    "from os import listdir\n",
    "from os.path import isfile, join\n",
    "import os\n",
    "import cv2\n",
    "import dlib\n",
    "import numpy as np\n",
    "    \n",
    "detector = dlib.get_frontal_face_detector()\n",
    "\n",
    "# 'Initialize Webcam' in my case webcam failed so videopath \n",
    "cap = cv2.VideoCapture('C:/Users/Predator/PycharmProjects/AwFR/Face Recognition/DIKU.mp4')\n",
    "img_size = 1\n",
    "margin = 0.2\n",
    "frame_count = 0\n",
    "while True:\n",
    "    ret, frame = cap.read()\n",
    "    frame_count += 1 \n",
    "    input_img = cv2.cvtColor(frame, cv2.COLOR_BGR2RGB)\n",
    "    img_h, img_w, _ = np.shape(input_img)\n",
    "    detected = detector(frame, 1)\n",
    "    faces = []\n",
    "    \n",
    "    if len(detected) > 0:\n",
    "        for i, d in enumerate(detected):\n",
    "            x1, y1, x2, y2, w, h = d.left(), d.top(), d.right() + 1, d.bottom() + 1, d.width(), d.height()\n",
    "            xw1 = max(int(x1 - margin * w), 0)\n",
    "            yw1 = max(int(y1 - margin * h), 0)\n",
    "            xw2 = min(int(x2 + margin * w), img_w - 1)\n",
    "            yw2 = min(int(y2 + margin * h), img_h - 1)\n",
    "            face =  frame[yw1:yw2 + 1, xw1:xw2 + 1, :]\n",
    "            file_name = \"./faces/dummyfolder/\"+str(frame_count)+\"_\"+str(i)+\".jpg\"\n",
    "            cv2.imwrite(file_name, face)\n",
    "            cv2.rectangle(frame, (x1, y1), (x2, y2), (255,127, 0), 2)\n",
    "\n",
    "    cv2.imshow(\"Face Detector\", frame)\n",
    "    if cv2.waitKey(1) == 13: #13 is the Enter Key\n",
    "        break\n",
    "\n",
    "print(\"*****************************\")\n",
    "print(\"Total frame counts:\", frame_count)\n",
    "print(\"total images for dataset:\", len(os.listdir('./faces/dummyfolder/')))\n",
    "print(\"*****************************\")\n",
    "\n",
    "cap.release()\n",
    "cv2.destroyAllWindows()  \n"
   ]
  },
  {
   "cell_type": "markdown",
   "metadata": {},
   "source": [
    "# Splitting image dataset into Train and validation"
   ]
  },
  {
   "cell_type": "code",
   "execution_count": 70,
   "metadata": {},
   "outputs": [
    {
     "name": "stdin",
     "output_type": "stream",
     "text": [
      "Enter the name of new student done \n"
     ]
    },
    {
     "name": "stdout",
     "output_type": "stream",
     "text": [
      "*****************************\n",
      "Total images:  0\n",
      "Training:  0\n",
      "validation:  0\n",
      "*****************************\n",
      "Copying Done!\n"
     ]
    }
   ],
   "source": [
    "import os\n",
    "import numpy as np\n",
    "import shutil\n",
    "import random\n",
    "\n",
    "root_dir = ('./faces/')\n",
    "img_dir = ('./faces/dummyfolder/')\n",
    "\n",
    "\n",
    "\n",
    "validation_ratio = 0.15\n",
    "\n",
    "\n",
    "try:\n",
    "    new_student = str(input('Enter the name of new student'))\n",
    "    train_dirname = (root_dir +'train/' + new_student)\n",
    "    os.makedirs(train_dirname)\n",
    "\n",
    "    validation_dirname = (root_dir +'validation/' + new_student)\n",
    "    os.makedirs(validation_dirname)\n",
    "    \n",
    "except FileExistsError:\n",
    "    print(\"Directory \" , new_student ,  \" already exists\")\n",
    "    \n",
    "else:\n",
    "    src = img_dir\n",
    "\n",
    "    allFileNames = os.listdir(src)\n",
    "    np.random.shuffle(allFileNames)\n",
    "    train_FileNames, validation_FileNames = np.split(np.array(allFileNames),\n",
    "                                                              [int(len(allFileNames)* (1 - validation_ratio))])\n",
    "\n",
    "    train_FileNames = [src + name for name in train_FileNames.tolist()]\n",
    "    validation_FileNames = [src + name for name in validation_FileNames.tolist()]\n",
    "\n",
    "    print(\"*****************************\")\n",
    "    print('Total images: ', len(allFileNames))\n",
    "    print('Training: ', len(train_FileNames))\n",
    "    print('validation: ', len(validation_FileNames))\n",
    "    print(\"*****************************\")\n",
    "\n",
    "\n",
    "\n",
    "\n",
    "    for name in train_FileNames:\n",
    "        shutil.copy(name, train_dirname)\n",
    "\n",
    "    for name in validation_FileNames:\n",
    "        shutil.copy(name, validation_dirname)\n",
    "    print(\"Copying Done!\")"
   ]
  },
  {
   "cell_type": "markdown",
   "metadata": {},
   "source": [
    "# Deleting content in dummyfolder after splitting images"
   ]
  },
  {
   "cell_type": "code",
   "execution_count": 69,
   "metadata": {},
   "outputs": [
    {
     "name": "stdout",
     "output_type": "stream",
     "text": [
      "Content of dummyfolder is erased.\n"
     ]
    }
   ],
   "source": [
    "dummypath = './faces/dummyfolder'\n",
    "for filename in os.listdir(dummypath):\n",
    "    file_path = os.path.join(dummypath, filename)\n",
    "    \n",
    "    if os.path.isfile(file_path) or os.path.islink(file_path):\n",
    "        os.unlink(file_path)\n",
    "    elif os.path.isdir(file_path):\n",
    "        shutil.rmtree(file_path)\n",
    "        \n",
    "print('Content of dummyfolder is erased.')\n",
    "\n",
    "\n",
    "\n",
    "\n",
    "\n"
   ]
  },
  {
   "cell_type": "code",
   "execution_count": null,
   "metadata": {},
   "outputs": [],
   "source": []
  },
  {
   "cell_type": "code",
   "execution_count": null,
   "metadata": {},
   "outputs": [],
   "source": []
  },
  {
   "cell_type": "code",
   "execution_count": null,
   "metadata": {},
   "outputs": [],
   "source": []
  },
  {
   "cell_type": "code",
   "execution_count": null,
   "metadata": {},
   "outputs": [],
   "source": []
  },
  {
   "cell_type": "code",
   "execution_count": 5,
   "metadata": {},
   "outputs": [],
   "source": []
  },
  {
   "cell_type": "code",
   "execution_count": null,
   "metadata": {},
   "outputs": [],
   "source": []
  }
 ],
 "metadata": {
  "kernelspec": {
   "display_name": "Python 3",
   "language": "python",
   "name": "python3"
  },
  "language_info": {
   "codemirror_mode": {
    "name": "ipython",
    "version": 3
   },
   "file_extension": ".py",
   "mimetype": "text/x-python",
   "name": "python",
   "nbconvert_exporter": "python",
   "pygments_lexer": "ipython3",
   "version": "3.8.8"
  }
 },
 "nbformat": 4,
 "nbformat_minor": 4
}
